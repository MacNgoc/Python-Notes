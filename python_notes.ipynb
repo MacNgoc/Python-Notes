{
 "cells": [
  {
   "cell_type": "markdown",
   "metadata": {},
   "source": [
    "# Here, Some notes about Python\n",
    "\n",
    "\n",
    "The original note come from here  \n",
    "https://github.com/chiphuyen/python-is-cool\n",
    "I modify a bit, add some comments and add notes about Generator, Iteration, ....\n",
    "\n",
    "\n",
    "\n",
    "https://github.com/sahands/python-by-example/blob/master/python-by-example.rst#flattening-lists"
   ]
  },
  {
   "cell_type": "markdown",
   "metadata": {},
   "source": [
    "# 1) Function lambda, Map, Reduce, Filter\n",
    "\n",
    "## Lambda\n"
   ]
  },
  {
   "cell_type": "code",
   "execution_count": 1,
   "metadata": {},
   "outputs": [],
   "source": [
    "def square_fn(x):\n",
    "    return x*x\n",
    "\n",
    "square_ln = lambda x: x*x"
   ]
  },
  {
   "cell_type": "code",
   "execution_count": 3,
   "metadata": {},
   "outputs": [],
   "source": [
    "for i in range(0, 10):\n",
    "    assert square_fn(i) == square_ln(i)"
   ]
  },
  {
   "cell_type": "code",
   "execution_count": 4,
   "metadata": {},
   "outputs": [
    {
     "ename": "AssertionError",
     "evalue": "",
     "output_type": "error",
     "traceback": [
      "\u001b[0;31m---------------------------------------------------------------------------\u001b[0m",
      "\u001b[0;31mAssertionError\u001b[0m                            Traceback (most recent call last)",
      "\u001b[0;32m<ipython-input-4-a5007f4cde77>\u001b[0m in \u001b[0;36m<module>\u001b[0;34m\u001b[0m\n\u001b[1;32m      1\u001b[0m \u001b[0mx\u001b[0m \u001b[0;34m=\u001b[0m \u001b[0;34m'Helo'\u001b[0m\u001b[0;34m\u001b[0m\u001b[0;34m\u001b[0m\u001b[0m\n\u001b[0;32m----> 2\u001b[0;31m \u001b[0;32massert\u001b[0m \u001b[0mx\u001b[0m\u001b[0;34m==\u001b[0m\u001b[0;34m'Hello'\u001b[0m\u001b[0;34m\u001b[0m\u001b[0;34m\u001b[0m\u001b[0m\n\u001b[0m",
      "\u001b[0;31mAssertionError\u001b[0m: "
     ]
    }
   ],
   "source": [
    "x = 'Helo'\n",
    "assert x=='Hello'"
   ]
  },
  {
   "cell_type": "markdown",
   "metadata": {},
   "source": [
    "### Note\n",
    "- Two functions square_fn and square_ln are identical. Its quick declaration makes lambda functions ideal for use in callbacks, and when functions are to be passed as arguments to other functions. They are especially useful when used in conjunction with functions like map, filter, and reduce\n",
    "- Assert is used to test / debug code. This keyword lets you test if a condition in your code returns True, if not the programme raise an AssertionError."
   ]
  },
  {
   "cell_type": "code",
   "execution_count": 12,
   "metadata": {},
   "outputs": [],
   "source": [
    "nums = [1/3, 333/7, 2323/2230, 40/34, 2/3]\n"
   ]
  },
  {
   "cell_type": "code",
   "execution_count": 13,
   "metadata": {},
   "outputs": [],
   "source": [
    "square_nums_1 = map(square_fn, nums)\n",
    "##square_nums_2 = map(lambda x: x*x, nums)"
   ]
  },
  {
   "cell_type": "code",
   "execution_count": 14,
   "metadata": {},
   "outputs": [
    {
     "data": {
      "text/plain": [
       "[0.1111111111111111,\n",
       " 2263.0408163265306,\n",
       " 1.0851472983570953,\n",
       " 1.384083044982699,\n",
       " 0.4444444444444444]"
      ]
     },
     "execution_count": 14,
     "metadata": {},
     "output_type": "execute_result"
    }
   ],
   "source": [
    "list(square_nums_1)"
   ]
  },
  {
   "cell_type": "code",
   "execution_count": 15,
   "metadata": {},
   "outputs": [
    {
     "name": "stdout",
     "output_type": "stream",
     "text": [
      "[]\n"
     ]
    }
   ],
   "source": [
    "print(list(square_nums_1))"
   ]
  },
  {
   "cell_type": "code",
   "execution_count": 17,
   "metadata": {},
   "outputs": [],
   "source": [
    "square_nums_2 = list(map(lambda x: x*x, nums))"
   ]
  },
  {
   "cell_type": "code",
   "execution_count": 18,
   "metadata": {},
   "outputs": [
    {
     "name": "stdout",
     "output_type": "stream",
     "text": [
      "[0.1111111111111111, 2263.0408163265306, 1.0851472983570953, 1.384083044982699, 0.4444444444444444]\n"
     ]
    }
   ],
   "source": [
    "print(square_nums_2)"
   ]
  },
  {
   "cell_type": "code",
   "execution_count": 20,
   "metadata": {},
   "outputs": [
    {
     "name": "stdout",
     "output_type": "stream",
     "text": [
      "<class 'list'>\n"
     ]
    }
   ],
   "source": [
    "print(type(square_nums_2))"
   ]
  },
  {
   "cell_type": "markdown",
   "metadata": {},
   "source": [
    "### Note\n",
    "- Note that objects returned by map, filter are iterators, which means that their values aren't stored but generated as needed. After you've called list(square_nums_1), square_nums_1 becomes empty. If you want to keep all elements in diffs, convert it to a list using list(square_nums_1). An example at line 17, square_nums_2 is a list, not a generator."
   ]
  },
  {
   "cell_type": "markdown",
   "metadata": {},
   "source": [
    "### Filter(fn, iterable)\n",
    "filter(fn, iterable) works the same way as map, except that fn returns a boolean value and filter returns all the elements of the iterable for which the fn returns True."
   ]
  },
  {
   "cell_type": "code",
   "execution_count": 23,
   "metadata": {},
   "outputs": [
    {
     "name": "stdout",
     "output_type": "stream",
     "text": [
      "[1, 0.9, 0.7]\n"
     ]
    }
   ],
   "source": [
    "errors = [0,1, 0.4, 0.05, 0.9, 0.5, 0.7]\n",
    "bad_preds = filter(lambda x : x > 0.5, errors)\n",
    "print(list(bad_preds))"
   ]
  },
  {
   "cell_type": "markdown",
   "metadata": {},
   "source": [
    "### Reduce(fn, iterable, initializer)\n",
    "Reduce(fn, iterable, initializer) is used when we want to iteratively apply an operator to all elements in a list. For example, if we want to calculate the product of all elemetns in a list:"
   ]
  },
  {
   "cell_type": "code",
   "execution_count": 24,
   "metadata": {},
   "outputs": [
    {
     "name": "stdout",
     "output_type": "stream",
     "text": [
      "12.95564683272412\n"
     ]
    }
   ],
   "source": [
    "product = 1\n",
    "for num in nums:\n",
    "    product *= num\n",
    "print(product)"
   ]
  },
  {
   "cell_type": "code",
   "execution_count": 25,
   "metadata": {},
   "outputs": [
    {
     "name": "stdout",
     "output_type": "stream",
     "text": [
      "12.95564683272412\n"
     ]
    }
   ],
   "source": [
    "from functools import reduce\n",
    "product = reduce(lambda x,y : x*y, nums)\n",
    "print(product)"
   ]
  },
  {
   "cell_type": "markdown",
   "metadata": {},
   "source": [
    "### Note on the performance of lambda functions\n",
    "\n",
    "- Lambda functions are meant for one time use. Each time `lambda x: dosomething(x)` is called, the function has to be created, which hurts the performance if you call `lambda x: dosomething(x)` multiple times (e.g. when you pass it inside `reduce`).\n",
    "\n",
    "- When you assign a name to the lambda function as in `fn = lambda x: dosomething(x)`, its performance is slightly slower than the same function defined using `def`, but the difference is negligible. See [here](https://stackoverflow.com/questions/26540885/lambda-is-slower-than-function-call-in-python-why).\n",
    "\n",
    "- Even though I find lambd as cool, I personally recommend using named functions when you can for the sake of clarity."
   ]
  },
  {
   "cell_type": "code",
   "execution_count": null,
   "metadata": {},
   "outputs": [],
   "source": []
  },
  {
   "cell_type": "markdown",
   "metadata": {},
   "source": [
    "# 2) List"
   ]
  },
  {
   "cell_type": "markdown",
   "metadata": {},
   "source": [
    "## Flatten list"
   ]
  },
  {
   "cell_type": "code",
   "execution_count": 26,
   "metadata": {},
   "outputs": [
    {
     "name": "stdout",
     "output_type": "stream",
     "text": [
      "[3, 4, 3, 2, 1, 6]\n"
     ]
    }
   ],
   "source": [
    "list_of_list = [[3,4], [3,2], [1, 6]]\n",
    "flatten_list = sum(list_of_list, [])\n",
    "print(flatten_list)"
   ]
  },
  {
   "cell_type": "code",
   "execution_count": 29,
   "metadata": {},
   "outputs": [
    {
     "name": "stdout",
     "output_type": "stream",
     "text": [
      "['I', 'you', 'me', 'here', 'you', ['test']]\n"
     ]
    }
   ],
   "source": [
    "list_of_text = [['I', 'you', 'me'], ['here', 'you'], [['test']]]\n",
    "flatten_list_text = sum(list_of_text, [])\n",
    "print(flatten_list_text)"
   ]
  },
  {
   "cell_type": "code",
   "execution_count": null,
   "metadata": {},
   "outputs": [],
   "source": []
  },
  {
   "cell_type": "markdown",
   "metadata": {},
   "source": [
    "## List slices with step (a[start:end:step])"
   ]
  },
  {
   "cell_type": "code",
   "execution_count": 36,
   "metadata": {},
   "outputs": [
    {
     "name": "stdout",
     "output_type": "stream",
     "text": [
      "[0, 1, 2, 3, 4, 5, 6, 7, 8, 9]\n",
      "[9, 8, 7, 6, 5, 4, 3, 2, 1, 0]\n"
     ]
    }
   ],
   "source": [
    "x = list(range(10))\n",
    "print(x)\n",
    "print(x[::-1])"
   ]
  },
  {
   "cell_type": "code",
   "execution_count": 34,
   "metadata": {},
   "outputs": [
    {
     "name": "stdout",
     "output_type": "stream",
     "text": [
      "[1, 3]\n"
     ]
    }
   ],
   "source": [
    "print(x[1:5:2])"
   ]
  },
  {
   "cell_type": "markdown",
   "metadata": {},
   "source": [
    "The syntax [x:y:z] means \"take every zth element of a list from index x to index y\". When z is negative, it indicates going backwards. When x isn't specified, it defaults to the first element of the list in the direction you are traversing the list. When y isn't specified, it defaults to the last element of the list. So if we want to take every 2th element of a list, we use [::2]."
   ]
  },
  {
   "cell_type": "code",
   "execution_count": 38,
   "metadata": {},
   "outputs": [
    {
     "name": "stdout",
     "output_type": "stream",
     "text": [
      "[0, 2, 4, 6, 8]\n",
      "[8, 6, 4, 2, 0]\n"
     ]
    }
   ],
   "source": [
    "print(x[::2])\n",
    "print(x[-2::-2])"
   ]
  },
  {
   "cell_type": "code",
   "execution_count": 40,
   "metadata": {},
   "outputs": [
    {
     "data": {
      "text/plain": [
       "[1, 2, 3, 4, 5, 6, 7, 8, 9, 10]"
      ]
     },
     "execution_count": 40,
     "metadata": {},
     "output_type": "execute_result"
    }
   ],
   "source": [
    "nested_lists = [[1,2], [3,4], [[5,6, [7,8, [9, 10]]]]]\n",
    "flatten = lambda x: [y for l in x for y in flatten(l)] if type(x) is list else [x]\n",
    "flatten(nested_lists)"
   ]
  },
  {
   "cell_type": "code",
   "execution_count": 43,
   "metadata": {},
   "outputs": [
    {
     "data": {
      "text/plain": [
       "[1, 2, 3, 4, 5, 6, [7, 8]]"
      ]
     },
     "execution_count": 43,
     "metadata": {},
     "output_type": "execute_result"
    }
   ],
   "source": [
    "import itertools\n",
    "x = [[1, 2], [3, 4], [5, 6, [7,8]]]\n",
    "list(itertools.chain.from_iterable(x))"
   ]
  },
  {
   "cell_type": "code",
   "execution_count": null,
   "metadata": {},
   "outputs": [],
   "source": []
  },
  {
   "cell_type": "markdown",
   "metadata": {},
   "source": [
    "## Note on list in Python\n",
    "- List is mutable object, this means that it can be changed after it is created"
   ]
  },
  {
   "cell_type": "code",
   "execution_count": null,
   "metadata": {},
   "outputs": [],
   "source": []
  },
  {
   "cell_type": "markdown",
   "metadata": {},
   "source": [
    "# 3) Decorator to time your function\n"
   ]
  },
  {
   "cell_type": "markdown",
   "metadata": {},
   "source": [
    "It's often useful to know how long it takes a function to run, e.g. when you need to compare the performance of two algorithms that do the same thing. One naive way is to call time.time() at the begin and end of each function and print out the difference.\n",
    "\n",
    "\n",
    "For example: compare two algorithms to calculate the n-th Fibonacci number, one uses memoization and one doesn't."
   ]
  },
  {
   "cell_type": "code",
   "execution_count": 62,
   "metadata": {},
   "outputs": [],
   "source": [
    "def fib_helper(n):\n",
    "    if n < 2:\n",
    "        return n\n",
    "    return fib_helper(n-1) + fib_helper(n-2)\n",
    "    \n",
    "def fib(n):\n",
    "    \"\"\" fib is a wrapper function so that later we can change its behavior\n",
    "    at the top level without affecting the behavior at every recursion step.\n",
    "    \"\"\"\n",
    "    return fib_helper(n)\n",
    "    "
   ]
  },
  {
   "cell_type": "code",
   "execution_count": 66,
   "metadata": {},
   "outputs": [],
   "source": [
    "def fib_memo_helper(m, dict_computed):\n",
    "    if m in dict_computed:\n",
    "        return dict_computed[m]\n",
    "    else:\n",
    "        dict_computed[m] = fib_memo_helper(m-1, dict_computed) + fib_memo_helper(m-2,dict_computed)\n",
    "        return dict_computed[m]\n",
    "    \n",
    "def fib_memo(m):\n",
    "    return fib_memo_helper(m, {0:0, 1:1})\n",
    "    "
   ]
  },
  {
   "cell_type": "markdown",
   "metadata": {},
   "source": [
    "Let's make sure that fib and fib_memo are functionally equivalent."
   ]
  },
  {
   "cell_type": "code",
   "execution_count": 68,
   "metadata": {},
   "outputs": [],
   "source": [
    "for i in range(20):\n",
    "    assert fib(i) == fib_memo(i)"
   ]
  },
  {
   "cell_type": "code",
   "execution_count": 74,
   "metadata": {},
   "outputs": [
    {
     "name": "stdout",
     "output_type": "stream",
     "text": [
      "Without memoization, it takes 0.340336 seconds.\n",
      "With memoization, it takss 0.0001211 seconds.\n"
     ]
    }
   ],
   "source": [
    "import time\n",
    "\n",
    "start = time.time()\n",
    "fib(30)\n",
    "\n",
    "print(f'Without memoization, it takes {time.time() - start:7f} seconds.')\n",
    "\n",
    "start = time.time()\n",
    "fib_memo(30)\n",
    "print(f\"With memoization, it takss {time.time() - start:.7f} seconds.\")"
   ]
  },
  {
   "cell_type": "markdown",
   "metadata": {},
   "source": [
    "If you want to time multiple functions, it can be drag having to write the same code over and over again. It'd be nice to have a way to specify how to change any function in the same way. In this case would qbe to call time.time() at the beginning and the end of each function, and print out the time difference.\n",
    "\n",
    "\n",
    "This is exactly what decorators do. They allow programmers to change the behavior of a function or class. Here's an example to create a decorator `timeit`."
   ]
  },
  {
   "cell_type": "markdown",
   "metadata": {},
   "source": [
    "### Note on *args and **kwargs python\n",
    "\n",
    "Ref: https://viblo.asia/p/python-args-va-kwargs-gDVK2pdnlLj\n",
    "\n",
    "There are two ways to pass arguments to a function in Python.\n",
    "- Non keyword arguments (e.g. `def f(a,b); return a - b`. We need to call the function in position order of arguments. For example f(0,1) is different from f(1,0). \n",
    "                \n",
    "- keyword arguments (e.g. `def f(a=0, b=1); return a - b)`. These arguments have to specify their values in definition. This method allows us to call the function in any position order of arguments like `f(a=0, b=5)` or `f(b=5, a=0)`, it gives us the same result.\n",
    "\n",
    "\n",
    "Here, \\*args and **kwargs are mostly used in function definitions. They allow you to pass an unspecified number of arguments to a function.\n",
    "\n",
    "- *args is used to send a non-keyworded variable length argument list to the function. For exemple, if we want to calculate sum of the first n term of a series. But n is not fixed. So, we can pass a list/ or tuple to the function as a argument. In simplify the code, we should use *args instead. \n",
    "\n",
    "- ** kwargs allows you to pass keyworded variable length of arguments to a funcion. You should use ** kwargs if you want to handle named arguments in a function. If number of arguments and their name are unknown, we can pass a dictionary as a parameter. e.g. `def foo(a_dict): for key, value in a_dict.items(): print(key, value) `. In this case, we can replace the dictionary by ** kwargs. `def foo(**kwargs): for key, value in kwargs.items(): print(key, value)`. When we call the function, we just do: `foo(a=1, b=2)`.\n",
    "\n",
    "Let's take some examples of *args and ** kwargs:"
   ]
  },
  {
   "cell_type": "code",
   "execution_count": 78,
   "metadata": {},
   "outputs": [],
   "source": [
    "def sum_series(list_numbers):\n",
    "    result = 0\n",
    "    for ele in list_numbers:\n",
    "        result += ele\n",
    "    return result\n",
    "\n",
    "\n",
    "def sum_series_2(*args):\n",
    "    result = 0\n",
    "    for x in args:\n",
    "        result += x\n",
    "    return result\n",
    "\n",
    "# Note: here args is a tuple, not a list. "
   ]
  },
  {
   "cell_type": "code",
   "execution_count": 82,
   "metadata": {},
   "outputs": [
    {
     "name": "stdout",
     "output_type": "stream",
     "text": [
      "6\n",
      "15\n"
     ]
    }
   ],
   "source": [
    "print(sum_series([1,2,3]))\n",
    "print(sum_series_2(1,2,3,4, 5))"
   ]
  },
  {
   "cell_type": "code",
   "execution_count": 81,
   "metadata": {},
   "outputs": [
    {
     "name": "stdout",
     "output_type": "stream",
     "text": [
      "[1, 2, 3, 3, 4, 5, [6, 7, 8]]\n"
     ]
    }
   ],
   "source": [
    "list_1 = [1,2,3]\n",
    "list_2 = [3,4,5]\n",
    "list_3 = [6,7,8]\n",
    "list_all = [*list_1, *list_2, list_3]\n",
    "print(list_all)"
   ]
  },
  {
   "cell_type": "markdown",
   "metadata": {},
   "source": [
    "### Let's get back our sheep, Decorator"
   ]
  },
  {
   "cell_type": "code",
   "execution_count": 75,
   "metadata": {},
   "outputs": [],
   "source": [
    "def timeit(fn):\n",
    "    #*args and **kwargs are to support positional and named arguments of fn\n",
    "    def get_time(*arg, **kwargs):\n",
    "        start = time.time()\n",
    "        output = fn(*arg, **kwargs)\n",
    "        print(f\"Time taken in {fn.__name__}: {time.time() - start:.7f}\")\n",
    "        return output # make sure that the decorator returns the output of fn\n",
    "    return get_time\n",
    "    "
   ]
  },
  {
   "cell_type": "code",
   "execution_count": 76,
   "metadata": {},
   "outputs": [],
   "source": [
    "@timeit\n",
    "def fib(n):\n",
    "    return fib_helper(n)\n",
    "\n",
    "\n",
    "@timeit\n",
    "def fib_memo(n):\n",
    "    return fib_memo_helper(n, {0:0, 1:1})"
   ]
  },
  {
   "cell_type": "code",
   "execution_count": 77,
   "metadata": {},
   "outputs": [
    {
     "name": "stdout",
     "output_type": "stream",
     "text": [
      "Time taken in fib: 0.3420181\n",
      "Time taken in fib_memo: 0.0000172\n"
     ]
    },
    {
     "data": {
      "text/plain": [
       "832040"
      ]
     },
     "execution_count": 77,
     "metadata": {},
     "output_type": "execute_result"
    }
   ],
   "source": [
    "fib(30)\n",
    "fib_memo(30)"
   ]
  },
  {
   "cell_type": "markdown",
   "metadata": {},
   "source": [
    "# 4) Caching with @functools.lru_cache\n",
    "\n",
    "Memoization is a form of cache: we cache the previously calculated Fibonacci numbers so that we don't have to calculate them again.\n",
    "\n",
    "Caching is such an important technique that Python provides a built-in decorator to give your function the caching capacity. If you want fib_helper to reuse the previously calculated Fibonacci numbers, you can just add the decorator lru_cache from @functools.lru stands for \"least recently used\". For more information on cache, see here."
   ]
  },
  {
   "cell_type": "code",
   "execution_count": 84,
   "metadata": {},
   "outputs": [],
   "source": [
    "import functools\n",
    "\n",
    "@functools.lru_cache()\n",
    "def fib_helper(n):\n",
    "    if n<2:\n",
    "        return n\n",
    "    return fib_helper(n-1) + fib_helper(n-2)\n",
    "\n",
    "@timeit\n",
    "def fib(n):\n",
    "    return fib_helper(n)\n",
    "    "
   ]
  },
  {
   "cell_type": "code",
   "execution_count": 87,
   "metadata": {},
   "outputs": [
    {
     "name": "stdout",
     "output_type": "stream",
     "text": [
      "Time taken in fib: 0.0000029\n",
      "Time taken in fib_memo: 0.0000212\n"
     ]
    },
    {
     "data": {
      "text/plain": [
       "832040"
      ]
     },
     "execution_count": 87,
     "metadata": {},
     "output_type": "execute_result"
    }
   ],
   "source": [
    "fib(30)\n",
    "fib_memo(30)"
   ]
  },
  {
   "cell_type": "markdown",
   "metadata": {},
   "source": [
    "# 5) Classes and some special methods\n",
    "\n",
    "In Python, magic methods are prefixed and suffixed with the double underscore `__`, also known as dunder. The most wellknown magic method is probably `__init__`. \n"
   ]
  },
  {
   "cell_type": "code",
   "execution_count": 88,
   "metadata": {},
   "outputs": [],
   "source": [
    "class Node:\n",
    "    \"\"\" A struct to denote the node of a binary tree.\n",
    "    It contains a value and pointers to left and right children.\n",
    "    \"\"\"\n",
    "    \n",
    "    def __init__(self, value, left=None, right=None):\n",
    "        self.value = value\n",
    "        self.left = left\n",
    "        self.right = right\n",
    "        "
   ]
  },
  {
   "cell_type": "markdown",
   "metadata": {},
   "source": [
    "We try to print out a Node object, however, it's not very interpretable."
   ]
  },
  {
   "cell_type": "code",
   "execution_count": 91,
   "metadata": {},
   "outputs": [
    {
     "name": "stdout",
     "output_type": "stream",
     "text": [
      "<__main__.Node object at 0x7fa17ed088b0>\n"
     ]
    }
   ],
   "source": [
    "node = Node(10)\n",
    "print(node)"
   ]
  },
  {
   "cell_type": "markdown",
   "metadata": {},
   "source": [
    "Ideally, when user prints out a node, we want to print out the node's value and the values of its children if it has children. To do so, we use the magic method `__repr__`\n",
    "which must return a printable object, like string."
   ]
  },
  {
   "cell_type": "code",
   "execution_count": 46,
   "metadata": {},
   "outputs": [
    {
     "name": "stdout",
     "output_type": "stream",
     "text": [
      "value: 4, left : 3, right: None\n"
     ]
    }
   ],
   "source": [
    "class Node:\n",
    "    \"\"\" A struct to denote the node of a binary tree.\n",
    "    It contains a value and pointers to left and right children.\n",
    "    \"\"\"\n",
    "    def __init__(self, value, left = None, right = None):\n",
    "        self.value = value\n",
    "        self.left = left\n",
    "        self.right = right\n",
    "        \n",
    "        \n",
    "    def __repr__(self):\n",
    "        strings = [f'value: {self.value}']\n",
    "        strings.append(f'left : {self.left.value}' if self.left else 'left: None')\n",
    "        strings.append(f'right: {self.right.value}' if self.right else 'right: None')\n",
    "        return ', '.join(strings)\n",
    "    \n",
    "left = Node(3)\n",
    "root = Node(4, left)\n",
    "print(root)"
   ]
  },
  {
   "cell_type": "code",
   "execution_count": 47,
   "metadata": {},
   "outputs": [
    {
     "name": "stdout",
     "output_type": "stream",
     "text": [
      "value: 3, left: None, right: None\n"
     ]
    }
   ],
   "source": [
    "print(left)"
   ]
  },
  {
   "cell_type": "markdown",
   "metadata": {},
   "source": [
    "We'd also like to compare two nodes by comparing their values. To do so, we overload the operator `==` with `__eq__`, `<` with `__lt__`, and `>=` with `__ge__`."
   ]
  },
  {
   "cell_type": "code",
   "execution_count": 95,
   "metadata": {},
   "outputs": [
    {
     "name": "stdout",
     "output_type": "stream",
     "text": [
      "False\n",
      "True\n",
      "False\n"
     ]
    }
   ],
   "source": [
    "class Node:\n",
    "    \"\"\" A struct to denote the node of a binary tree.\n",
    "    It contains a value and pointers to left and right children.\n",
    "    \"\"\"\n",
    "    def __init__(self, value, left=None, right=None):\n",
    "        self.value = value\n",
    "        self.left = left\n",
    "        self.right = right\n",
    "    \n",
    "    def __eq__(self, other):\n",
    "        return self.value == other.value\n",
    "    \n",
    "    def __lt__(self, other):\n",
    "        return self.value < other.value\n",
    "    \n",
    "    def __ge__(self, other):\n",
    "        return self.value >= other.value\n",
    "\n",
    "\n",
    "left = Node(4)\n",
    "root = Node(5, left)\n",
    "print(left == root)\n",
    "print(left < root)\n",
    "print(left >= root)"
   ]
  },
  {
   "cell_type": "markdown",
   "metadata": {},
   "source": [
    "For a comprehensive list of supported magic methods [here](https://www.tutorialsteacher.com/python/magic-methods-in-python) or see the official Python documentation [here](https://docs.python.org/3/reference/datamodel.html#special-method-names) (slightly harder to read).\n",
    "\n",
    "Some of the methods that I highly recommend:\n",
    "\n",
    "- `__len__`: to overload the `len()` function.\n",
    "- `__str__`: to overload the `str()` function.\n",
    "- `__iter__`: if you want to your objects to be iterators. This also allows you to call `next()` on your object."
   ]
  },
  {
   "cell_type": "markdown",
   "metadata": {},
   "source": [
    "For classes like Node where we know for sure all the attributes they can support (in the case of Node, they are `value`, `left`, and `right`), we might want to use `__slots__` to denote those values for both performance boost and memory saving. For a comprehensive understanding of pros and cons of `__slots__`, see this [absolutely amazing answer by Aaron Hall on StackOverflow](https://stackoverflow.com/a/28059785/5029595).\n",
    "\n",
    "\n",
    "(Nghĩa là đối với những class mà attributes của chúng cố định như Node, thì chúng ta có thể sử dụng `__slot__` để khai báo những giá trị này. Việc này giúp tăng performance và memory saving.)"
   ]
  },
  {
   "cell_type": "markdown",
   "metadata": {},
   "source": [
    "The special attribute `__slots__`allows you to explicitly state which instance attributes you expect your object instance to have, with the expected results:\n",
    "- faster attribute access.\n",
    "- space savings in memory.\n",
    "\n",
    "\n",
    "The space savings is from storing value references in slots insteads of `__dict__`.\n",
    "Denying `__dict__` and `__weakref` creation if parent classes deny them and you declare `__slots__`."
   ]
  },
  {
   "cell_type": "code",
   "execution_count": null,
   "metadata": {},
   "outputs": [],
   "source": []
  },
  {
   "cell_type": "markdown",
   "metadata": {},
   "source": [
    "# 6) Iterator and Generator\n",
    "https://medium.com/swe-tieng-viet/hi%E1%BB%83u-s%C3%A2u-h%C6%A1n-v%E1%BB%81-generator-trong-python-611a6dee19b4\n",
    "\n",
    "https://medium.com/swe-tieng-viet/iterator-vs-generator-trong-python-703ad12c73a7\n",
    "\n",
    "https://realpython.com/python-while-loop/\n",
    "\n",
    "https://realpython.com/introduction-to-python-generators/\n",
    "\n",
    "\n",
    "- Iteration: The process of looping through the objects or items a collection.\n",
    "\n",
    "- Iterable: An object that can be iterated over\n",
    "\n",
    "- Iterator: The object that produces successive items or values from its associated iterable. or Iterator in Python is simply an object that can be iterated upon. An object which will return data, one element at a time. This object must implement two special methods: `__next__()` and `__iter__()` that called iterator protocol.\n",
    "\n",
    "- Iter(): a built-in function used to obtain a an iterable\n",
    "\n",
    "- We can create class - Iterator by defining the method `next()`. For example, built-in Class named `range` is a iterator that allows us to generate successively its elements (or to iterate over its values)."
   ]
  },
  {
   "cell_type": "code",
   "execution_count": 123,
   "metadata": {},
   "outputs": [
    {
     "name": "stdout",
     "output_type": "stream",
     "text": [
      "<class 'list_iterator'>\n",
      "a\n"
     ]
    }
   ],
   "source": [
    "x = ['a', 'b', 'c', 'd']\n",
    "y = iter(x)\n",
    "print(type(y))\n",
    "print(next(y))"
   ]
  },
  {
   "cell_type": "code",
   "execution_count": 92,
   "metadata": {},
   "outputs": [],
   "source": [
    "class PowerTwo:\n",
    "    \"\"\"Class to implement an iterator\n",
    "    of powers of two : 2^n. We choose max_power for n and\n",
    "    class create an iterator that generate numbers 2^0, 2^1, 2^2, ...,2^max_value \"\"\"\n",
    "\n",
    "    def __init__(self, max_power):\n",
    "        self.max_power = max_power\n",
    "        \n",
    "    def __repr__(self):\n",
    "        return f'value: {self.max_power}'\n",
    "\n",
    "    def __iter__(self):\n",
    "        self.n = 0\n",
    "        return self\n",
    "\n",
    "    def __next__(self):\n",
    "        if self.n <= self.max_power:\n",
    "            result = 2 ** self.n # 2^n\n",
    "            self.n += 1\n",
    "            return result\n",
    "        else:\n",
    "            raise StopIteration"
   ]
  },
  {
   "cell_type": "code",
   "execution_count": 93,
   "metadata": {},
   "outputs": [
    {
     "name": "stdout",
     "output_type": "stream",
     "text": [
      "{'max_power': 10}\n"
     ]
    }
   ],
   "source": [
    "u = PowerTwo(10)\n",
    "print(u.__dict__)"
   ]
  },
  {
   "cell_type": "code",
   "execution_count": 89,
   "metadata": {},
   "outputs": [
    {
     "name": "stdout",
     "output_type": "stream",
     "text": [
      "{'max_power': 10, 'n': 0}\n"
     ]
    }
   ],
   "source": [
    "v = iter(u)\n",
    "print(v.__dict__)"
   ]
  },
  {
   "cell_type": "code",
   "execution_count": 91,
   "metadata": {},
   "outputs": [
    {
     "name": "stdout",
     "output_type": "stream",
     "text": [
      "8\n",
      "16\n",
      "32\n",
      "64\n"
     ]
    }
   ],
   "source": [
    "print(next(v))\n",
    "print(next(v))\n",
    "print(next(v))\n",
    "print(next(v))"
   ]
  },
  {
   "cell_type": "markdown",
   "metadata": {},
   "source": [
    "The function `dir(u)` will list all attributes and methods of the class."
   ]
  },
  {
   "cell_type": "code",
   "execution_count": 95,
   "metadata": {},
   "outputs": [
    {
     "data": {
      "text/plain": [
       "['__class__',\n",
       " '__delattr__',\n",
       " '__dict__',\n",
       " '__dir__',\n",
       " '__doc__',\n",
       " '__eq__',\n",
       " '__format__',\n",
       " '__ge__',\n",
       " '__getattribute__',\n",
       " '__gt__',\n",
       " '__hash__',\n",
       " '__init__',\n",
       " '__init_subclass__',\n",
       " '__iter__',\n",
       " '__le__',\n",
       " '__lt__',\n",
       " '__module__',\n",
       " '__ne__',\n",
       " '__new__',\n",
       " '__next__',\n",
       " '__reduce__',\n",
       " '__reduce_ex__',\n",
       " '__repr__',\n",
       " '__setattr__',\n",
       " '__sizeof__',\n",
       " '__str__',\n",
       " '__subclasshook__',\n",
       " '__weakref__',\n",
       " 'max_power']"
      ]
     },
     "execution_count": 95,
     "metadata": {},
     "output_type": "execute_result"
    }
   ],
   "source": [
    "dir(u)"
   ]
  },
  {
   "cell_type": "markdown",
   "metadata": {},
   "source": [
    "## Generator\n",
    "Source\n",
    "https://www.programiz.com/python-programming/generator\n",
    "https://realpython.com/introduction-to-python-generators/\n",
    "\n",
    "There are two type of generator: Generator functions and generator expressions.\n",
    "\n",
    "- Why Generator? There is a lot of work in building iterator in Python. We have to implement a class with `__iter__()` and `__next__()` methods, keep track of internal states, and raise StopIteration when there are no values to be returned. This both lengthy and counterintuitive. ---> Generator comes to the rescue in such situations.\n",
    "\n",
    "- Python Generators are a simple way of creating iterator. A generator (function) is a function that returns an object (iterator) which we can iterate over (one value at a time).\n",
    "\n",
    "- It's simple to create a generator in Python. It is as easy as defining a function, but with a `yield` statement instead of a `return` statement. If a function contians at least one `yield` statement , it becomes a generator fucntion. Both `yield`and `return`will return some value from a function.\n",
    "\n",
    "- The difference is that while a `return`statement terminates a function entirely, `yield` statement pauses the function saving all its states and later continues from there on successive calls.\n",
    "\n",
    "\n",
    "\n",
    "### Differences between Generator function and Normal function.\n",
    "- Generator function contians one or more `yield` statements.\n",
    "\n",
    "- When called, it returns an object (iterator) but does not start execution immediately.\n",
    "\n",
    "- Methods like `__iter__()` and `__next__()` are implemented automatically. So we can iterate through the items using `next()`.\n",
    "\n",
    "- One the funciton yields, the function is paused and the control is transferred to the caller.\n",
    "\n",
    "- Local variables and their states are remembered between successive calls.\n",
    "\n",
    "- Finally, whe the function terminates, StopIteration is raised automatically on further calls.\n",
    "\n"
   ]
  },
  {
   "cell_type": "code",
   "execution_count": 104,
   "metadata": {},
   "outputs": [
    {
     "name": "stdout",
     "output_type": "stream",
     "text": [
      "<class 'generator'>\n",
      "0\n",
      "1\n",
      "2\n"
     ]
    }
   ],
   "source": [
    "def infinite_sequence():\n",
    "    num = 0\n",
    "    while True:\n",
    "        yield num\n",
    "        num += 1\n",
    "        \n",
    "i_seq = infinite_sequence()\n",
    "print(type(i_seq))\n",
    "print(next(i_seq))\n",
    "print(next(i_seq))\n",
    "print(next(i_seq))"
   ]
  },
  {
   "cell_type": "markdown",
   "metadata": {},
   "source": [
    "#### Reading large file"
   ]
  },
  {
   "cell_type": "code",
   "execution_count": 136,
   "metadata": {},
   "outputs": [
    {
     "name": "stdout",
     "output_type": "stream",
     "text": [
      "16\n"
     ]
    }
   ],
   "source": [
    "def count_line(file_name):\n",
    "    for row in open(file_name, \"r\"):\n",
    "        yield row       \n",
    "\n",
    "\n",
    "test = count_line(\"/Users/bnmac/Documents/Travail/python/python-is-cool/data/Questions_Rep.csv\")\n",
    "count = 0\n",
    "for ele in test:\n",
    "    count += 1\n",
    "    \n",
    "print(count)"
   ]
  },
  {
   "cell_type": "code",
   "execution_count": null,
   "metadata": {},
   "outputs": [],
   "source": []
  },
  {
   "cell_type": "code",
   "execution_count": null,
   "metadata": {},
   "outputs": [],
   "source": []
  },
  {
   "cell_type": "markdown",
   "metadata": {},
   "source": [
    "### Building generators with Generator expressions"
   ]
  },
  {
   "cell_type": "code",
   "execution_count": 113,
   "metadata": {},
   "outputs": [
    {
     "name": "stdout",
     "output_type": "stream",
     "text": [
      "824456\n",
      "112\n"
     ]
    }
   ],
   "source": [
    "import sys\n",
    "squared_nums_list = [i**2 for i in range(100000)]\n",
    "print(sys.getsizeof(squared_nums_list))\n",
    "\n",
    "squared_nums_generator = (i**2 for i in range(100000))\n",
    "print(sys.getsizeof(squared_nums_generator))"
   ]
  },
  {
   "cell_type": "code",
   "execution_count": 137,
   "metadata": {},
   "outputs": [
    {
     "name": "stdout",
     "output_type": "stream",
     "text": [
      "         5 function calls in 0.014 seconds\n",
      "\n",
      "   Ordered by: standard name\n",
      "\n",
      "   ncalls  tottime  percall  cumtime  percall filename:lineno(function)\n",
      "        1    0.012    0.012    0.012    0.012 <string>:1(<listcomp>)\n",
      "        1    0.001    0.001    0.014    0.014 <string>:1(<module>)\n",
      "        1    0.000    0.000    0.014    0.014 {built-in method builtins.exec}\n",
      "        1    0.001    0.001    0.001    0.001 {built-in method builtins.sum}\n",
      "        1    0.000    0.000    0.000    0.000 {method 'disable' of '_lsprof.Profiler' objects}\n",
      "\n",
      "\n"
     ]
    }
   ],
   "source": [
    "import cProfile\n",
    "cProfile.run('sum([i * 2 for i in range(100000)])')"
   ]
  },
  {
   "cell_type": "code",
   "execution_count": 138,
   "metadata": {},
   "outputs": [
    {
     "name": "stdout",
     "output_type": "stream",
     "text": [
      "         100005 function calls in 0.025 seconds\n",
      "\n",
      "   Ordered by: standard name\n",
      "\n",
      "   ncalls  tottime  percall  cumtime  percall filename:lineno(function)\n",
      "   100001    0.014    0.000    0.014    0.000 <string>:1(<genexpr>)\n",
      "        1    0.000    0.000    0.025    0.025 <string>:1(<module>)\n",
      "        1    0.000    0.000    0.025    0.025 {built-in method builtins.exec}\n",
      "        1    0.011    0.011    0.025    0.025 {built-in method builtins.sum}\n",
      "        1    0.000    0.000    0.000    0.000 {method 'disable' of '_lsprof.Profiler' objects}\n",
      "\n",
      "\n"
     ]
    }
   ],
   "source": [
    "import cProfile\n",
    "cProfile.run('sum(i * 2 for i in range(100000))')"
   ]
  },
  {
   "cell_type": "code",
   "execution_count": null,
   "metadata": {},
   "outputs": [],
   "source": []
  },
  {
   "cell_type": "markdown",
   "metadata": {},
   "source": [
    "# 7) local namespace, object's attributes\n",
    "\n",
    "The locals() function returns a dictionary containing the variables defined in the local namespace. "
   ]
  },
  {
   "cell_type": "code",
   "execution_count": 107,
   "metadata": {},
   "outputs": [
    {
     "name": "stdout",
     "output_type": "stream",
     "text": [
      "{'self': <__main__.Model1 object at 0x7fa17ed3e4f0>, 'hidden_size': 100, 'num_layers': 3, 'learning_rate': 0.003}\n"
     ]
    }
   ],
   "source": [
    "class Model1:\n",
    "    def __init__(self, hidden_size = 100, num_layers = 3, learning_rate = 3e-3):\n",
    "        print(locals())\n",
    "        self.hidden_size = hidden_size\n",
    "        self.num_layers = num_layers\n",
    "        self.learning_rate = learning_rate\n",
    "        \n",
    "model1 = Model1()\n"
   ]
  },
  {
   "cell_type": "markdown",
   "metadata": {},
   "source": [
    "All attributes of an object is stored in its `__dict__`"
   ]
  },
  {
   "cell_type": "code",
   "execution_count": 108,
   "metadata": {},
   "outputs": [
    {
     "data": {
      "text/plain": [
       "{'hidden_size': 100, 'num_layers': 3, 'learning_rate': 0.003}"
      ]
     },
     "execution_count": 108,
     "metadata": {},
     "output_type": "execute_result"
    }
   ],
   "source": [
    "model1.__dict__"
   ]
  },
  {
   "cell_type": "markdown",
   "metadata": {},
   "source": [
    "Note that manually assigning each of teh arguments to an attribute can be quite tiring when the list of arguments is large. To avoid this, we can directly assign the list of arguments to the object's `__dict__`."
   ]
  },
  {
   "cell_type": "code",
   "execution_count": 113,
   "metadata": {},
   "outputs": [],
   "source": [
    "class Model2:\n",
    "    def __init__(self, hidden_size = 50, num_layers = 30, learning_rate = 3e-2):\n",
    "        params = locals()\n",
    "        del params['self']\n",
    "        self.__dict__ = params"
   ]
  },
  {
   "cell_type": "code",
   "execution_count": 114,
   "metadata": {},
   "outputs": [
    {
     "data": {
      "text/plain": [
       "{'hidden_size': 50, 'num_layers': 30, 'learning_rate': 0.03}"
      ]
     },
     "execution_count": 114,
     "metadata": {},
     "output_type": "execute_result"
    }
   ],
   "source": [
    "model2 = Model2()\n",
    "model2.__dict__"
   ]
  },
  {
   "cell_type": "markdown",
   "metadata": {},
   "source": [
    "This can be convenient when the object is initiated using the catch-all ** kwargs."
   ]
  },
  {
   "cell_type": "code",
   "execution_count": 115,
   "metadata": {},
   "outputs": [],
   "source": [
    "class Model3:\n",
    "    def __init__(self, **kwargs):\n",
    "        self.__dict__ = kwargs"
   ]
  },
  {
   "cell_type": "code",
   "execution_count": 116,
   "metadata": {},
   "outputs": [
    {
     "data": {
      "text/plain": [
       "{'hidden_size': 100, 'num_layers': 3, 'learning_rate': 0.0003}"
      ]
     },
     "execution_count": 116,
     "metadata": {},
     "output_type": "execute_result"
    }
   ],
   "source": [
    "model3 = Model3(hidden_size=100, num_layers=3, learning_rate=3e-4)\n",
    "model3.__dict__"
   ]
  },
  {
   "cell_type": "code",
   "execution_count": 117,
   "metadata": {},
   "outputs": [
    {
     "data": {
      "text/plain": [
       "{'hidden_size': 10, 'num_layers': 4, 'learning_rate': 0.03, 'paras': 5}"
      ]
     },
     "execution_count": 117,
     "metadata": {},
     "output_type": "execute_result"
    }
   ],
   "source": [
    "model3_1 = Model3(hidden_size = 10, num_layers = 4, learning_rate = 3e-2, paras = 5)\n",
    "model3_1.__dict__"
   ]
  },
  {
   "cell_type": "markdown",
   "metadata": {},
   "source": [
    "# 6. Wildcard import\n",
    "Often, you run into this wildcard import `*` that looks something like this:\n",
    "\n",
    "`file.py`\n",
    "    \n",
    "    from parts import *\n",
    "\n",
    "This is irresponsible because it will import everything in module, even the imports of that module. For example, if `parts.py` looks like this:\n",
    "\n",
    "`parts.py`\n",
    "\n",
    "    import numpy\n",
    "    import tensorflow\n",
    "    \n",
    "    class Encoder:\n",
    "        ...\n",
    "    \n",
    "    class Decoder:\n",
    "        ...\n",
    "        \n",
    "    class Loss:\n",
    "        ...\n",
    "    \n",
    "    def helper(*args, **kwargs):\n",
    "        ...\n",
    "    \n",
    "    def utils(*args, **kwargs):\n",
    "        ...\n",
    "\n",
    "Since `parts.py` doesn't have `__all__` specified, `file.py` will import Encoder, Decoder, Loss, utils, helper together with numpy and tensorflow.\n",
    "\n",
    "If we intend that only Encoder, Decoder, and Loss are ever to be imported and used in another module, we should specify that in `parts.py` using the `__all__` keyword.\n",
    "\n",
    "`parts.py`\n",
    "    \n",
    "    __all__ = ['Encoder', 'Decoder', 'Loss']\n",
    "    import numpy\n",
    "    import tensorflow\n",
    "    \n",
    "    class Encoder:\n",
    "        ...\n",
    "\n",
    "Now, if some user irresponsibly does a wildcard import with `parts`, they can only import Encoder, Decoder, Loss. Personally, I also find `__all__` helpful as it gives me an overview of the module."
   ]
  },
  {
   "cell_type": "code",
   "execution_count": null,
   "metadata": {},
   "outputs": [],
   "source": []
  }
 ],
 "metadata": {
  "kernelspec": {
   "display_name": "Python 3",
   "language": "python",
   "name": "python3"
  },
  "language_info": {
   "codemirror_mode": {
    "name": "ipython",
    "version": 3
   },
   "file_extension": ".py",
   "mimetype": "text/x-python",
   "name": "python",
   "nbconvert_exporter": "python",
   "pygments_lexer": "ipython3",
   "version": "3.8.3"
  }
 },
 "nbformat": 4,
 "nbformat_minor": 4
}
